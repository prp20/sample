{
  "nbformat": 4,
  "nbformat_minor": 0,
  "metadata": {
    "colab": {
      "name": "chatbot_try.ipynb",
      "provenance": [],
      "collapsed_sections": [],
      "toc_visible": true,
      "authorship_tag": "ABX9TyMeJg3aZlBdPqX1zFZI3DA6",
      "include_colab_link": true
    },
    "kernelspec": {
      "name": "python3",
      "display_name": "Python 3"
    }
  },
  "cells": [
    {
      "cell_type": "markdown",
      "metadata": {
        "id": "view-in-github",
        "colab_type": "text"
      },
      "source": [
        "<a href=\"https://colab.research.google.com/github/prp20/sample/blob/master/chatbot_try.ipynb\" target=\"_parent\"><img src=\"https://colab.research.google.com/assets/colab-badge.svg\" alt=\"Open In Colab\"/></a>"
      ]
    },
    {
      "cell_type": "code",
      "metadata": {
        "id": "i330ZJjviH_c",
        "colab_type": "code",
        "outputId": "88e2788c-a54f-4be8-938a-73141fc1d05e",
        "colab": {
          "base_uri": "https://localhost:8080/",
          "height": 541
        }
      },
      "source": [
        "pip install chatterbot==1.0.0"
      ],
      "execution_count": 0,
      "outputs": [
        {
          "output_type": "stream",
          "text": [
            "Collecting chatterbot==1.0.0\n",
            "\u001b[?25l  Downloading https://files.pythonhosted.org/packages/69/c3/061bdea00e34691bd7395122960b685b75b7ef9cb6f52a0bc8639be08dca/ChatterBot-1.0.0-py2.py3-none-any.whl (65kB)\n",
            "\r\u001b[K     |█████                           | 10kB 20.1MB/s eta 0:00:01\r\u001b[K     |██████████                      | 20kB 3.2MB/s eta 0:00:01\r\u001b[K     |███████████████                 | 30kB 3.9MB/s eta 0:00:01\r\u001b[K     |████████████████████            | 40kB 3.0MB/s eta 0:00:01\r\u001b[K     |█████████████████████████       | 51kB 3.4MB/s eta 0:00:01\r\u001b[K     |█████████████████████████████▉  | 61kB 4.0MB/s eta 0:00:01\r\u001b[K     |████████████████████████████████| 71kB 3.3MB/s \n",
            "\u001b[?25hRequirement already satisfied: mathparse<0.2,>=0.1 in /usr/local/lib/python3.6/dist-packages (from chatterbot==1.0.0) (0.1.2)\n",
            "Requirement already satisfied: sqlalchemy<1.3,>=1.2 in /usr/local/lib/python3.6/dist-packages (from chatterbot==1.0.0) (1.2.19)\n",
            "Collecting chatterbot-corpus<1.3,>=1.2\n",
            "\u001b[?25l  Downloading https://files.pythonhosted.org/packages/ed/19/f8b41daf36fe4b0f43e283a820362ffdb2c1128600ab4ee187e84262fa4d/chatterbot_corpus-1.2.0-py2.py3-none-any.whl (117kB)\n",
            "\u001b[K     |████████████████████████████████| 122kB 15.3MB/s \n",
            "\u001b[?25hRequirement already satisfied: python-dateutil<2.8,>=2.7 in /usr/local/lib/python3.6/dist-packages (from chatterbot==1.0.0) (2.7.5)\n",
            "Requirement already satisfied: pint>=0.8.1 in /usr/local/lib/python3.6/dist-packages (from chatterbot==1.0.0) (0.11)\n",
            "Requirement already satisfied: pymongo<4.0,>=3.3 in /usr/local/lib/python3.6/dist-packages (from chatterbot==1.0.0) (3.10.1)\n",
            "Requirement already satisfied: nltk<4.0,>=3.2 in /usr/local/lib/python3.6/dist-packages (from chatterbot==1.0.0) (3.2.5)\n",
            "Collecting PyYAML<4.0,>=3.12\n",
            "\u001b[?25l  Downloading https://files.pythonhosted.org/packages/9e/a3/1d13970c3f36777c583f136c136f804d70f500168edc1edea6daa7200769/PyYAML-3.13.tar.gz (270kB)\n",
            "\u001b[K     |████████████████████████████████| 276kB 15.1MB/s \n",
            "\u001b[?25hRequirement already satisfied: six>=1.5 in /usr/local/lib/python3.6/dist-packages (from python-dateutil<2.8,>=2.7->chatterbot==1.0.0) (1.12.0)\n",
            "Requirement already satisfied: setuptools in /usr/local/lib/python3.6/dist-packages (from pint>=0.8.1->chatterbot==1.0.0) (46.0.0)\n",
            "Building wheels for collected packages: PyYAML\n",
            "  Building wheel for PyYAML (setup.py) ... \u001b[?25l\u001b[?25hdone\n",
            "  Created wheel for PyYAML: filename=PyYAML-3.13-cp36-cp36m-linux_x86_64.whl size=43086 sha256=4a9dcff63f59e96305eb908ac5e844589597d04a9c0f2a0d626e93172896d358\n",
            "  Stored in directory: /root/.cache/pip/wheels/ad/da/0c/74eb680767247273e2cf2723482cb9c924fe70af57c334513f\n",
            "Successfully built PyYAML\n",
            "Installing collected packages: PyYAML, chatterbot-corpus, chatterbot\n",
            "  Found existing installation: PyYAML 5.1.2\n",
            "    Uninstalling PyYAML-5.1.2:\n",
            "      Successfully uninstalled PyYAML-5.1.2\n",
            "  Found existing installation: ChatterBot 1.0.5\n",
            "    Uninstalling ChatterBot-1.0.5:\n",
            "      Successfully uninstalled ChatterBot-1.0.5\n",
            "Successfully installed PyYAML-3.13 chatterbot-1.0.0 chatterbot-corpus-1.2.0\n"
          ],
          "name": "stdout"
        }
      ]
    },
    {
      "cell_type": "code",
      "metadata": {
        "id": "4o7tLcOFkNn5",
        "colab_type": "code",
        "colab": {
          "base_uri": "https://localhost:8080/",
          "height": 50
        },
        "outputId": "a07edbc4-0d5e-42f1-b34f-855e16e57591"
      },
      "source": [
        "pip install nltk"
      ],
      "execution_count": 2,
      "outputs": [
        {
          "output_type": "stream",
          "text": [
            "Requirement already satisfied: nltk in /usr/local/lib/python3.6/dist-packages (3.2.5)\n",
            "Requirement already satisfied: six in /usr/local/lib/python3.6/dist-packages (from nltk) (1.12.0)\n"
          ],
          "name": "stdout"
        }
      ]
    },
    {
      "cell_type": "code",
      "metadata": {
        "id": "de1UCmdBkT0j",
        "colab_type": "code",
        "colab": {
          "base_uri": "https://localhost:8080/",
          "height": 860
        },
        "outputId": "082017d9-816f-4fad-9657-49c285d26bde"
      },
      "source": [
        "pip install newspaper3k"
      ],
      "execution_count": 3,
      "outputs": [
        {
          "output_type": "stream",
          "text": [
            "Collecting newspaper3k\n",
            "\u001b[?25l  Downloading https://files.pythonhosted.org/packages/d7/b9/51afecb35bb61b188a4b44868001de348a0e8134b4dfa00ffc191567c4b9/newspaper3k-0.2.8-py3-none-any.whl (211kB)\n",
            "\r\u001b[K     |█▌                              | 10kB 19.8MB/s eta 0:00:01\r\u001b[K     |███                             | 20kB 3.2MB/s eta 0:00:01\r\u001b[K     |████▋                           | 30kB 4.3MB/s eta 0:00:01\r\u001b[K     |██████▏                         | 40kB 3.1MB/s eta 0:00:01\r\u001b[K     |███████▊                        | 51kB 3.4MB/s eta 0:00:01\r\u001b[K     |█████████▎                      | 61kB 4.0MB/s eta 0:00:01\r\u001b[K     |██████████▉                     | 71kB 4.3MB/s eta 0:00:01\r\u001b[K     |████████████▍                   | 81kB 4.4MB/s eta 0:00:01\r\u001b[K     |██████████████                  | 92kB 4.9MB/s eta 0:00:01\r\u001b[K     |███████████████▌                | 102kB 4.8MB/s eta 0:00:01\r\u001b[K     |█████████████████               | 112kB 4.8MB/s eta 0:00:01\r\u001b[K     |██████████████████▋             | 122kB 4.8MB/s eta 0:00:01\r\u001b[K     |████████████████████▏           | 133kB 4.8MB/s eta 0:00:01\r\u001b[K     |█████████████████████▊          | 143kB 4.8MB/s eta 0:00:01\r\u001b[K     |███████████████████████▎        | 153kB 4.8MB/s eta 0:00:01\r\u001b[K     |████████████████████████▉       | 163kB 4.8MB/s eta 0:00:01\r\u001b[K     |██████████████████████████▍     | 174kB 4.8MB/s eta 0:00:01\r\u001b[K     |████████████████████████████    | 184kB 4.8MB/s eta 0:00:01\r\u001b[K     |█████████████████████████████▌  | 194kB 4.8MB/s eta 0:00:01\r\u001b[K     |███████████████████████████████ | 204kB 4.8MB/s eta 0:00:01\r\u001b[K     |████████████████████████████████| 215kB 4.8MB/s \n",
            "\u001b[?25hCollecting tinysegmenter==0.3\n",
            "  Downloading https://files.pythonhosted.org/packages/17/82/86982e4b6d16e4febc79c2a1d68ee3b707e8a020c5d2bc4af8052d0f136a/tinysegmenter-0.3.tar.gz\n",
            "Collecting feedfinder2>=0.0.4\n",
            "  Downloading https://files.pythonhosted.org/packages/35/82/1251fefec3bb4b03fd966c7e7f7a41c9fc2bb00d823a34c13f847fd61406/feedfinder2-0.0.4.tar.gz\n",
            "Requirement already satisfied: lxml>=3.6.0 in /usr/local/lib/python3.6/dist-packages (from newspaper3k) (4.2.6)\n",
            "Collecting cssselect>=0.9.2\n",
            "  Downloading https://files.pythonhosted.org/packages/3b/d4/3b5c17f00cce85b9a1e6f91096e1cc8e8ede2e1be8e96b87ce1ed09e92c5/cssselect-1.1.0-py2.py3-none-any.whl\n",
            "Requirement already satisfied: Pillow>=3.3.0 in /usr/local/lib/python3.6/dist-packages (from newspaper3k) (7.0.0)\n",
            "Requirement already satisfied: python-dateutil>=2.5.3 in /usr/local/lib/python3.6/dist-packages (from newspaper3k) (2.7.5)\n",
            "Collecting jieba3k>=0.35.1\n",
            "\u001b[?25l  Downloading https://files.pythonhosted.org/packages/a9/cb/2c8332bcdc14d33b0bedd18ae0a4981a069c3513e445120da3c3f23a8aaa/jieba3k-0.35.1.zip (7.4MB)\n",
            "\u001b[K     |████████████████████████████████| 7.4MB 11.1MB/s \n",
            "\u001b[?25hRequirement already satisfied: requests>=2.10.0 in /usr/local/lib/python3.6/dist-packages (from newspaper3k) (2.21.0)\n",
            "Requirement already satisfied: beautifulsoup4>=4.4.1 in /usr/local/lib/python3.6/dist-packages (from newspaper3k) (4.6.3)\n",
            "Collecting tldextract>=2.0.1\n",
            "\u001b[?25l  Downloading https://files.pythonhosted.org/packages/fd/0e/9ab599d6e78f0340bb1d1e28ddeacb38c8bb7f91a1b0eae9a24e9603782f/tldextract-2.2.2-py2.py3-none-any.whl (48kB)\n",
            "\u001b[K     |████████████████████████████████| 51kB 7.5MB/s \n",
            "\u001b[?25hRequirement already satisfied: PyYAML>=3.11 in /usr/local/lib/python3.6/dist-packages (from newspaper3k) (3.13)\n",
            "Requirement already satisfied: nltk>=3.2.1 in /usr/local/lib/python3.6/dist-packages (from newspaper3k) (3.2.5)\n",
            "Collecting feedparser>=5.2.1\n",
            "\u001b[?25l  Downloading https://files.pythonhosted.org/packages/91/d8/7d37fec71ff7c9dbcdd80d2b48bcdd86d6af502156fc93846fb0102cb2c4/feedparser-5.2.1.tar.bz2 (192kB)\n",
            "\u001b[K     |████████████████████████████████| 194kB 51.3MB/s \n",
            "\u001b[?25hRequirement already satisfied: six in /usr/local/lib/python3.6/dist-packages (from feedfinder2>=0.0.4->newspaper3k) (1.12.0)\n",
            "Requirement already satisfied: idna<2.9,>=2.5 in /usr/local/lib/python3.6/dist-packages (from requests>=2.10.0->newspaper3k) (2.8)\n",
            "Requirement already satisfied: urllib3<1.25,>=1.21.1 in /usr/local/lib/python3.6/dist-packages (from requests>=2.10.0->newspaper3k) (1.24.3)\n",
            "Requirement already satisfied: certifi>=2017.4.17 in /usr/local/lib/python3.6/dist-packages (from requests>=2.10.0->newspaper3k) (2019.11.28)\n",
            "Requirement already satisfied: chardet<3.1.0,>=3.0.2 in /usr/local/lib/python3.6/dist-packages (from requests>=2.10.0->newspaper3k) (3.0.4)\n",
            "Requirement already satisfied: setuptools in /usr/local/lib/python3.6/dist-packages (from tldextract>=2.0.1->newspaper3k) (46.0.0)\n",
            "Collecting requests-file>=1.4\n",
            "  Downloading https://files.pythonhosted.org/packages/23/9c/6e63c23c39e53d3df41c77a3d05a49a42c4e1383a6d2a5e3233161b89dbf/requests_file-1.4.3-py2.py3-none-any.whl\n",
            "Building wheels for collected packages: tinysegmenter, feedfinder2, jieba3k, feedparser\n",
            "  Building wheel for tinysegmenter (setup.py) ... \u001b[?25l\u001b[?25hdone\n",
            "  Created wheel for tinysegmenter: filename=tinysegmenter-0.3-cp36-none-any.whl size=13539 sha256=bbd1489cc88c86c61824ecd83c4360932a0ae2726418f0e5b00d6aadf83d1cd4\n",
            "  Stored in directory: /root/.cache/pip/wheels/81/2b/43/a02ede72324dd40cdd7ca53aad718c7710628e91b8b0dc0f02\n",
            "  Building wheel for feedfinder2 (setup.py) ... \u001b[?25l\u001b[?25hdone\n",
            "  Created wheel for feedfinder2: filename=feedfinder2-0.0.4-cp36-none-any.whl size=3357 sha256=39e9dc1e5faeb63f939a4acad789c316fee8d882e376a01896ed1755f53583a9\n",
            "  Stored in directory: /root/.cache/pip/wheels/de/03/ca/778e3a7a627e3d98836cc890e7cb40c7575424cfd3340f40ed\n",
            "  Building wheel for jieba3k (setup.py) ... \u001b[?25l\u001b[?25hdone\n",
            "  Created wheel for jieba3k: filename=jieba3k-0.35.1-cp36-none-any.whl size=7398406 sha256=58d95695bf752f0eae5e874267ae6fcb66f5c172a77cb973e591e074372e06e8\n",
            "  Stored in directory: /root/.cache/pip/wheels/83/15/9c/a3f1f67e7f7181170ad37d32e503c35da20627c013f438ed34\n",
            "  Building wheel for feedparser (setup.py) ... \u001b[?25l\u001b[?25hdone\n",
            "  Created wheel for feedparser: filename=feedparser-5.2.1-cp36-none-any.whl size=44940 sha256=11e53866551cdbb080b87e501adbc104322c00db790539fdbc983952794b31df\n",
            "  Stored in directory: /root/.cache/pip/wheels/8c/69/b7/f52763c41c5471df57703a0ef718a32a5e81ee35dcf6d4f97f\n",
            "Successfully built tinysegmenter feedfinder2 jieba3k feedparser\n",
            "Installing collected packages: tinysegmenter, feedfinder2, cssselect, jieba3k, requests-file, tldextract, feedparser, newspaper3k\n",
            "Successfully installed cssselect-1.1.0 feedfinder2-0.0.4 feedparser-5.2.1 jieba3k-0.35.1 newspaper3k-0.2.8 requests-file-1.4.3 tinysegmenter-0.3 tldextract-2.2.2\n"
          ],
          "name": "stdout"
        }
      ]
    },
    {
      "cell_type": "code",
      "metadata": {
        "id": "lqAJq0ctkjED",
        "colab_type": "code",
        "colab": {}
      },
      "source": [
        "#import libraries\n",
        "from newspaper import Article\n",
        "import random\n",
        "import string\n",
        "from sklearn.feature_extraction.text import TfidfVectorizer\n",
        "from sklearn.metrics.pairwise import cosine_similarity\n",
        "import nltk\n",
        "import numpy as np\n",
        "import warnings"
      ],
      "execution_count": 0,
      "outputs": []
    },
    {
      "cell_type": "code",
      "metadata": {
        "id": "r85vGF-5lFMa",
        "colab_type": "code",
        "colab": {}
      },
      "source": [
        "#ignore any warning message\n",
        "warnings.filterwarnings('ignore')"
      ],
      "execution_count": 0,
      "outputs": []
    },
    {
      "cell_type": "code",
      "metadata": {
        "id": "gEX-IR_vlT9C",
        "colab_type": "code",
        "colab": {
          "base_uri": "https://localhost:8080/",
          "height": 34
        },
        "outputId": "70e118dc-06b5-43a8-d231-6e4811e88fb5"
      },
      "source": [
        "#Download packages from NLTK\n",
        "nltk.download('punkt', quiet=True)\n",
        "nltk.download('wordnet', quiet=True)"
      ],
      "execution_count": 49,
      "outputs": [
        {
          "output_type": "execute_result",
          "data": {
            "text/plain": [
              "True"
            ]
          },
          "metadata": {
            "tags": []
          },
          "execution_count": 49
        }
      ]
    },
    {
      "cell_type": "code",
      "metadata": {
        "id": "M4fl9f3rll7s",
        "colab_type": "code",
        "colab": {
          "base_uri": "https://localhost:8080/",
          "height": 322
        },
        "outputId": "47053822-3327-49bc-e497-1c0cbf62e3c9"
      },
      "source": [
        "#GEt the article URL\n",
        "article = Article('https://wonderfulengineering.com/this-artificial-kidney-eliminates-the-need-for-kidney-dialysis/?fbclid=IwAR19Olftqa9vr0HEhwl51c89OPN6RGsxPNDDJB2rzhqdKkIVGYYXeGCF1Ds')\n",
        "article.download()\n",
        "article.parse()\n",
        "article.nlp()\n",
        "corpus = article.text\n",
        "\n",
        "#Print the article corpus\n",
        "print(corpus)"
      ],
      "execution_count": 50,
      "outputs": [
        {
          "output_type": "stream",
          "text": [
            "Advertisement\n",
            "\n",
            "It is estimated by The National Kidney Foundation that over 100,000 patients are on the waiting list for kidney donors. A further 3,000 names are added to the list every year. An average patient has to wait for 3.6 years for a viable transplant. The patients are treated with dialysis while they are waiting for a transplant and only one in three patients survive for more than five years without a transplant. All that could change as scientists have developed the world’s first artificial kidney.\n",
            "\n",
            "This bio-hybrid uses living kidney cells along with a series of specialized microchips powered by the human heart to filter waste from the blood-stream. The artificial kidney can bypass the complication of matching donors and tissue rejection. To address this unmet need, William Fissell from Vanderbilt and Shuvo Roy from the University of California, San Francisco (UCSF) launched The Kidney Project.\n",
            "\n",
            "“We can leverage Mother Nature’s 60 million years of research and development and use kidney cells that fortunately for us grow well in the lab dish, and grow them into a bioreactor of living cells,” explained Fissell in a recent article published by Research News Vanderbilt. Fissel claims that it can reliably distinguish between waste chemicals and the nutrients that need to be reabsorbed by the body.\n",
            "\n",
            "The artificial kidney can be inserted into the body by a common surgery and has been proved to work efficiently. This kidney has several microchips which are controlled by the heart and removes the toxins from the blood the same way a normal kidney does.\n",
            "\n",
            "The artificial kidney has 15 microchips built one atop the other and they act as filters. They will hold living renal cells which will eventually grow around the microchips and mimic a real kidney. Engineers are currently working and testing every single detail of the device to make sure the device can safely let the blood run through without the formation of clots or damaging the kidney in any way.\n",
            "\n",
            "This solution has been working so far and the rejection rate has been zero. The human trials are yet to commence but the research shows promising results and everybody is hoping it might eliminate the need for dialysis.\n",
            "\n",
            "You can see it in the video below:\n",
            "\n",
            "Here is an update on the Kidney project:\n"
          ],
          "name": "stdout"
        }
      ]
    },
    {
      "cell_type": "code",
      "metadata": {
        "id": "DkG2na5nmgIs",
        "colab_type": "code",
        "colab": {
          "base_uri": "https://localhost:8080/",
          "height": 54
        },
        "outputId": "2316ff3a-f731-4a7f-9004-ba0acadafc1b"
      },
      "source": [
        "#Tokenisation\n",
        "text = corpus\n",
        "sent_tokens = nltk.sent_tokenize(text) # convert text into list of sentences\n",
        "\n",
        "#Print the list of sentences\n",
        "print(sent_tokens)"
      ],
      "execution_count": 51,
      "outputs": [
        {
          "output_type": "stream",
          "text": [
            "['Advertisement\\n\\nIt is estimated by The National Kidney Foundation that over 100,000 patients are on the waiting list for kidney donors.', 'A further 3,000 names are added to the list every year.', 'An average patient has to wait for 3.6 years for a viable transplant.', 'The patients are treated with dialysis while they are waiting for a transplant and only one in three patients survive for more than five years without a transplant.', 'All that could change as scientists have developed the world’s first artificial kidney.', 'This bio-hybrid uses living kidney cells along with a series of specialized microchips powered by the human heart to filter waste from the blood-stream.', 'The artificial kidney can bypass the complication of matching donors and tissue rejection.', 'To address this unmet need, William Fissell from Vanderbilt and Shuvo Roy from the University of California, San Francisco (UCSF) launched The Kidney Project.', '“We can leverage Mother Nature’s 60 million years of research and development and use kidney cells that fortunately for us grow well in the lab dish, and grow them into a bioreactor of living cells,” explained Fissell in a recent article published by Research News Vanderbilt.', 'Fissel claims that it can reliably distinguish between waste chemicals and the nutrients that need to be reabsorbed by the body.', 'The artificial kidney can be inserted into the body by a common surgery and has been proved to work efficiently.', 'This kidney has several microchips which are controlled by the heart and removes the toxins from the blood the same way a normal kidney does.', 'The artificial kidney has 15 microchips built one atop the other and they act as filters.', 'They will hold living renal cells which will eventually grow around the microchips and mimic a real kidney.', 'Engineers are currently working and testing every single detail of the device to make sure the device can safely let the blood run through without the formation of clots or damaging the kidney in any way.', 'This solution has been working so far and the rejection rate has been zero.', 'The human trials are yet to commence but the research shows promising results and everybody is hoping it might eliminate the need for dialysis.', 'You can see it in the video below:\\n\\nHere is an update on the Kidney project:']\n"
          ],
          "name": "stdout"
        }
      ]
    },
    {
      "cell_type": "code",
      "metadata": {
        "id": "Plj8I4Tqm077",
        "colab_type": "code",
        "colab": {
          "base_uri": "https://localhost:8080/",
          "height": 70
        },
        "outputId": "58c7ae92-8123-4d0c-a1fc-8dd9d54009b3"
      },
      "source": [
        "#create dictionary (key:value) to remove punctuations\n",
        "remove_punct_dict = dict((ord(punct), None) for punct in string.punctuation)\n",
        "\n",
        "#Display the punctuations\n",
        "print(string.punctuation)\n",
        "\n",
        "#Display the dictionary\n",
        "print(remove_punct_dict)"
      ],
      "execution_count": 52,
      "outputs": [
        {
          "output_type": "stream",
          "text": [
            "!\"#$%&'()*+,-./:;<=>?@[\\]^_`{|}~\n",
            "{33: None, 34: None, 35: None, 36: None, 37: None, 38: None, 39: None, 40: None, 41: None, 42: None, 43: None, 44: None, 45: None, 46: None, 47: None, 58: None, 59: None, 60: None, 61: None, 62: None, 63: None, 64: None, 91: None, 92: None, 93: None, 94: None, 95: None, 96: None, 123: None, 124: None, 125: None, 126: None}\n"
          ],
          "name": "stdout"
        }
      ]
    },
    {
      "cell_type": "code",
      "metadata": {
        "id": "DzLrF4a8pe77",
        "colab_type": "code",
        "colab": {
          "base_uri": "https://localhost:8080/",
          "height": 54
        },
        "outputId": "c4991c4c-2ea8-49c9-f989-264f84cdc2f1"
      },
      "source": [
        "#create a function to return a list of limitised lowercase words after removing punctuations\n",
        "def LemNormalise(text):\n",
        "  return nltk.word_tokenize(text.lower().translate(remove_punct_dict))\n",
        "\n",
        "print(LemNormalise(text))"
      ],
      "execution_count": 53,
      "outputs": [
        {
          "output_type": "stream",
          "text": [
            "['advertisement', 'it', 'is', 'estimated', 'by', 'the', 'national', 'kidney', 'foundation', 'that', 'over', '100000', 'patients', 'are', 'on', 'the', 'waiting', 'list', 'for', 'kidney', 'donors', 'a', 'further', '3000', 'names', 'are', 'added', 'to', 'the', 'list', 'every', 'year', 'an', 'average', 'patient', 'has', 'to', 'wait', 'for', '36', 'years', 'for', 'a', 'viable', 'transplant', 'the', 'patients', 'are', 'treated', 'with', 'dialysis', 'while', 'they', 'are', 'waiting', 'for', 'a', 'transplant', 'and', 'only', 'one', 'in', 'three', 'patients', 'survive', 'for', 'more', 'than', 'five', 'years', 'without', 'a', 'transplant', 'all', 'that', 'could', 'change', 'as', 'scientists', 'have', 'developed', 'the', 'world', '’', 's', 'first', 'artificial', 'kidney', 'this', 'biohybrid', 'uses', 'living', 'kidney', 'cells', 'along', 'with', 'a', 'series', 'of', 'specialized', 'microchips', 'powered', 'by', 'the', 'human', 'heart', 'to', 'filter', 'waste', 'from', 'the', 'bloodstream', 'the', 'artificial', 'kidney', 'can', 'bypass', 'the', 'complication', 'of', 'matching', 'donors', 'and', 'tissue', 'rejection', 'to', 'address', 'this', 'unmet', 'need', 'william', 'fissell', 'from', 'vanderbilt', 'and', 'shuvo', 'roy', 'from', 'the', 'university', 'of', 'california', 'san', 'francisco', 'ucsf', 'launched', 'the', 'kidney', 'project', '“', 'we', 'can', 'leverage', 'mother', 'nature', '’', 's', '60', 'million', 'years', 'of', 'research', 'and', 'development', 'and', 'use', 'kidney', 'cells', 'that', 'fortunately', 'for', 'us', 'grow', 'well', 'in', 'the', 'lab', 'dish', 'and', 'grow', 'them', 'into', 'a', 'bioreactor', 'of', 'living', 'cells', '”', 'explained', 'fissell', 'in', 'a', 'recent', 'article', 'published', 'by', 'research', 'news', 'vanderbilt', 'fissel', 'claims', 'that', 'it', 'can', 'reliably', 'distinguish', 'between', 'waste', 'chemicals', 'and', 'the', 'nutrients', 'that', 'need', 'to', 'be', 'reabsorbed', 'by', 'the', 'body', 'the', 'artificial', 'kidney', 'can', 'be', 'inserted', 'into', 'the', 'body', 'by', 'a', 'common', 'surgery', 'and', 'has', 'been', 'proved', 'to', 'work', 'efficiently', 'this', 'kidney', 'has', 'several', 'microchips', 'which', 'are', 'controlled', 'by', 'the', 'heart', 'and', 'removes', 'the', 'toxins', 'from', 'the', 'blood', 'the', 'same', 'way', 'a', 'normal', 'kidney', 'does', 'the', 'artificial', 'kidney', 'has', '15', 'microchips', 'built', 'one', 'atop', 'the', 'other', 'and', 'they', 'act', 'as', 'filters', 'they', 'will', 'hold', 'living', 'renal', 'cells', 'which', 'will', 'eventually', 'grow', 'around', 'the', 'microchips', 'and', 'mimic', 'a', 'real', 'kidney', 'engineers', 'are', 'currently', 'working', 'and', 'testing', 'every', 'single', 'detail', 'of', 'the', 'device', 'to', 'make', 'sure', 'the', 'device', 'can', 'safely', 'let', 'the', 'blood', 'run', 'through', 'without', 'the', 'formation', 'of', 'clots', 'or', 'damaging', 'the', 'kidney', 'in', 'any', 'way', 'this', 'solution', 'has', 'been', 'working', 'so', 'far', 'and', 'the', 'rejection', 'rate', 'has', 'been', 'zero', 'the', 'human', 'trials', 'are', 'yet', 'to', 'commence', 'but', 'the', 'research', 'shows', 'promising', 'results', 'and', 'everybody', 'is', 'hoping', 'it', 'might', 'eliminate', 'the', 'need', 'for', 'dialysis', 'you', 'can', 'see', 'it', 'in', 'the', 'video', 'below', 'here', 'is', 'an', 'update', 'on', 'the', 'kidney', 'project']\n"
          ],
          "name": "stdout"
        }
      ]
    },
    {
      "cell_type": "code",
      "metadata": {
        "id": "9SNiSwfaqgzL",
        "colab_type": "code",
        "colab": {}
      },
      "source": [
        "#Keywords Matching\n",
        "\n",
        "#Greeting Inputs\n",
        "GREETING_INPUTS = [\"hi\", \"hello\", \"hola\", \"greetings\", \"wassup\", \"hey\", \"namaste\"]\n",
        "\n",
        "#GREETING RESPONSES\n",
        "GREETING_RESPONSES = [\"howdy\",\"hi\",\"hey\",\"what's good\", \"hello\", \"hey there\"]\n",
        "\n",
        "#Function to return a random greeting response to a user greeting\n",
        "def greeting(sentence):\n",
        "  #in the user input is a greeting, then we return a randomly choose greeting response\n",
        "  for word in sentence.split():\n",
        "    if word.lower() in GREETING_INPUTS:\n",
        "      return random.choice(GREETING_RESPONSES) "
      ],
      "execution_count": 0,
      "outputs": []
    },
    {
      "cell_type": "code",
      "metadata": {
        "id": "L20emqw9rmyD",
        "colab_type": "code",
        "colab": {}
      },
      "source": [
        "#Generate the response\n",
        "def response(user_response):\n",
        "\n",
        "  #users response /query\n",
        "  user_response = 'what is a kidney'\n",
        "  user_response = user_response.lower()\n",
        "\n",
        "  #print user response\n",
        "  print(user_response)\n",
        "\n",
        "  #set the chatbot response to an empty string\n",
        "  robo_response =\"\"\n",
        "\n",
        "  #Append the users response to the sentence list\n",
        "  sent_tokens.append(user_response)\n",
        "\n",
        "  #print the sentence lists after appending the user response\n",
        "  #print(sent_tokens)\n",
        "\n",
        "  #create a tfidVectoriser object\n",
        "  TfidfVec = TfidfVectorizer(tokenizer = LemNormalise, stop_words=\"english\")\n",
        "\n",
        "  #Convert the text to a matrix of TF_IDF features\n",
        "  tfidf = TfidfVec.fit_transform(sent_tokens)\n",
        "\n",
        "  #Print TFIDF Features\n",
        "  #print(tfidf)\n",
        "\n",
        "  #Get the measure of the similarity (similarity scores)\n",
        "  vals = cosine_similarity(tfidf[-1], tfidf)\n",
        "\n",
        "  #print the similarity scores\n",
        "  #print(vals)\n",
        "\n",
        "  #Get the index of the most similar test or user response \n",
        "  idx = vals.argsort()[0][-2]\n",
        "\n",
        "  #reduce the dimensionality of vals\n",
        "  flat = vals.flatten()\n",
        "\n",
        "  #sort the list in ascending order\n",
        "  flat.sort()\n",
        "\n",
        "  #Get the most similar score for the users response\n",
        "  score = flat[-2]\n",
        "\n",
        "\n",
        "  #Print the similarity score\n",
        "  #print(score)\n",
        "\n",
        "  #if the variable 'score' is 0 to then there is not test similar to user response\n",
        "  if(score == 0):\n",
        "    robo_response = robo_response+\"I apologize, I don't understand.\"\n",
        "  else:\n",
        "    robo_response = robo_response+sent_tokens[idx]\n",
        "  sent_tokens.remove(user_response)\n",
        "  #Print the chatbot response\n",
        "  #print(robo_response)\n",
        "  return robo_response\n",
        "\n"
      ],
      "execution_count": 0,
      "outputs": []
    },
    {
      "cell_type": "code",
      "metadata": {
        "id": "fC505pfezE_w",
        "colab_type": "code",
        "colab": {
          "base_uri": "https://localhost:8080/",
          "height": 50
        },
        "outputId": "634fee83-c0ab-43d2-cf8c-81142be68ffc"
      },
      "source": [
        "user_response = 'what is a kidney'\n",
        "robo_response = response(user_response)"
      ],
      "execution_count": 61,
      "outputs": [
        {
          "output_type": "stream",
          "text": [
            "what is a kidney\n",
            "This kidney has several microchips which are controlled by the heart and removes the toxins from the blood the same way a normal kidney does.\n"
          ],
          "name": "stdout"
        }
      ]
    },
    {
      "cell_type": "code",
      "metadata": {
        "id": "MrLPmSjMjeNe",
        "colab_type": "code",
        "colab": {
          "base_uri": "https://localhost:8080/",
          "height": 330
        },
        "outputId": "5c68a95d-9779-4d60-df1c-c57bb2d77489"
      },
      "source": [
        "flag =True\n",
        "print(\"DocBot: Hey There. I'm the doctor Bot. I'll answer your queries about kidney. To Exit, Type Bye\")\n",
        "while(flag == True):\n",
        "  user_response = input()\n",
        "  user_response =user_response.lower()\n",
        "  if(user_response != 'bye'):\n",
        "    if(user_response == \"thanks\" or user_response == \"thank you\"):\n",
        "      flag = False\n",
        "      print(\"DocBot: You are welcome\")\n",
        "    else:\n",
        "      if(greeting(user_response) !=None):\n",
        "        print(\"DocBot: \" + greeting(user_response))\n",
        "      else:\n",
        "        print(\"DocBot: \" + response(user_response))\n",
        "        \n",
        "  else:\n",
        "    print(\"DocBot: chat with you later\")"
      ],
      "execution_count": 62,
      "outputs": [
        {
          "output_type": "stream",
          "text": [
            "DocBot: Hey There. I'm the doctor Bot. I'll answer your queries about kidney. To Exit, Type Bye\n",
            "hey\n",
            "DocBot: what's good\n",
            "what is kidney\n",
            "what is a kidney\n",
            "This kidney has several microchips which are controlled by the heart and removes the toxins from the blood the same way a normal kidney does.\n"
          ],
          "name": "stdout"
        },
        {
          "output_type": "error",
          "ename": "TypeError",
          "evalue": "ignored",
          "traceback": [
            "\u001b[0;31m---------------------------------------------------------------------------\u001b[0m",
            "\u001b[0;31mTypeError\u001b[0m                                 Traceback (most recent call last)",
            "\u001b[0;32m<ipython-input-62-ddc88a087448>\u001b[0m in \u001b[0;36m<module>\u001b[0;34m()\u001b[0m\n\u001b[1;32m     12\u001b[0m         \u001b[0mprint\u001b[0m\u001b[0;34m(\u001b[0m\u001b[0;34m\"DocBot: \"\u001b[0m \u001b[0;34m+\u001b[0m \u001b[0mgreeting\u001b[0m\u001b[0;34m(\u001b[0m\u001b[0muser_response\u001b[0m\u001b[0;34m)\u001b[0m\u001b[0;34m)\u001b[0m\u001b[0;34m\u001b[0m\u001b[0;34m\u001b[0m\u001b[0m\n\u001b[1;32m     13\u001b[0m       \u001b[0;32melse\u001b[0m\u001b[0;34m:\u001b[0m\u001b[0;34m\u001b[0m\u001b[0;34m\u001b[0m\u001b[0m\n\u001b[0;32m---> 14\u001b[0;31m         \u001b[0mprint\u001b[0m\u001b[0;34m(\u001b[0m\u001b[0;34m\"DocBot: \"\u001b[0m \u001b[0;34m+\u001b[0m \u001b[0mresponse\u001b[0m\u001b[0;34m(\u001b[0m\u001b[0muser_response\u001b[0m\u001b[0;34m)\u001b[0m\u001b[0;34m)\u001b[0m\u001b[0;34m\u001b[0m\u001b[0;34m\u001b[0m\u001b[0m\n\u001b[0m\u001b[1;32m     15\u001b[0m \u001b[0;34m\u001b[0m\u001b[0m\n\u001b[1;32m     16\u001b[0m   \u001b[0;32melse\u001b[0m\u001b[0;34m:\u001b[0m\u001b[0;34m\u001b[0m\u001b[0;34m\u001b[0m\u001b[0m\n",
            "\u001b[0;31mTypeError\u001b[0m: must be str, not NoneType"
          ]
        }
      ]
    }
  ]
}